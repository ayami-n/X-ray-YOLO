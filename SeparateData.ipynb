{
  "nbformat": 4,
  "nbformat_minor": 0,
  "metadata": {
    "colab": {
      "name": "SeparateData.ipynb",
      "provenance": [],
      "authorship_tag": "ABX9TyNZCNJLk5zXJsYGtYEgl6Y2",
      "include_colab_link": true
    },
    "kernelspec": {
      "name": "python3",
      "display_name": "Python 3"
    },
    "language_info": {
      "name": "python"
    }
  },
  "cells": [
    {
      "cell_type": "markdown",
      "metadata": {
        "id": "view-in-github",
        "colab_type": "text"
      },
      "source": [
        "<a href=\"https://colab.research.google.com/github/ayami-n/X-ray-YOLO/blob/main/SeparateData.ipynb\" target=\"_parent\"><img src=\"https://colab.research.google.com/assets/colab-badge.svg\" alt=\"Open In Colab\"/></a>"
      ]
    },
    {
      "cell_type": "code",
      "metadata": {
        "colab": {
          "base_uri": "https://localhost:8080/"
        },
        "id": "hSDT42fOdK51",
        "outputId": "cec535d7-7494-4f04-bd9a-19b10b776517"
      },
      "source": [
        "from google.colab import drive\n",
        "drive.mount('/content/gdrive')"
      ],
      "execution_count": null,
      "outputs": [
        {
          "output_type": "stream",
          "text": [
            "Mounted at /content/gdrive\n"
          ],
          "name": "stdout"
        }
      ]
    },
    {
      "cell_type": "code",
      "metadata": {
        "id": "UAoP7VfHdU8l"
      },
      "source": [
        "import glob\n",
        "import shutil\n",
        "import os\n",
        "import pandas as pd \n",
        "import numpy as np"
      ],
      "execution_count": null,
      "outputs": []
    },
    {
      "cell_type": "markdown",
      "metadata": {
        "id": "au2aEreCdXmz"
      },
      "source": [
        "Change the location where I want to load"
      ]
    },
    {
      "cell_type": "code",
      "metadata": {
        "colab": {
          "base_uri": "https://localhost:8080/"
        },
        "id": "-WLdFp_vdchb",
        "outputId": "a14c29ce-284f-47f1-af3d-e2ef1d75328a"
      },
      "source": [
        "%cd /content/gdrive/MyDrive/YOLO_Custom"
      ],
      "execution_count": null,
      "outputs": [
        {
          "output_type": "stream",
          "text": [
            "/content/gdrive/MyDrive/YOLO_Custom\n"
          ],
          "name": "stdout"
        }
      ]
    },
    {
      "cell_type": "code",
      "metadata": {
        "id": "ywEXv9pEdfL8"
      },
      "source": [
        "%mkdir Train\n",
        "%mkdir Valid\n",
        "%mkdir Test\n",
        "%mkdir Files"
      ],
      "execution_count": null,
      "outputs": []
    },
    {
      "cell_type": "code",
      "metadata": {
        "id": "Z2H9lLjHdhdD"
      },
      "source": [
        "path = '/content/gdrive/MyDrive/YOLO_Custom/Alldata'\n",
        "allFileNames = os.listdir(path)"
      ],
      "execution_count": null,
      "outputs": []
    },
    {
      "cell_type": "code",
      "metadata": {
        "colab": {
          "base_uri": "https://localhost:8080/"
        },
        "id": "ZW_FSJs6djod",
        "outputId": "6d1ecf8b-cec2-497d-95c7-8c2de31d7be1"
      },
      "source": [
        "print(len(allFileNames))\n",
        "print(len(os.listdir('/content/gdrive/MyDrive/YOLO_Custom/Text'))) #need to wait 10 or 15 mins to reflect files, if this values are not the same as the above, wait 10 min and reflesh this sessiong"
      ],
      "execution_count": null,
      "outputs": [
        {
          "output_type": "stream",
          "text": [
            "4293\n",
            "4294\n"
          ],
          "name": "stdout"
        }
      ]
    },
    {
      "cell_type": "code",
      "metadata": {
        "colab": {
          "base_uri": "https://localhost:8080/"
        },
        "id": "0BdRkEdCdnN9",
        "outputId": "a005840a-6878-4bb7-a1a7-eb2c557eda04"
      },
      "source": [
        "train_ratio = 0.80\n",
        "val_ratio = 0.10\n",
        "test_ratio = 0.10\n",
        "\n",
        "root_dir = '/content/gdrive/MyDrive/YOLO_Custom'\n",
        "np.random.shuffle(allFileNames)\n",
        "\n",
        "File = np.array_split(allFileNames, 8)\n",
        "                                          \n",
        "# print(File[0],\"\\n\")\n",
        "# print(File[1],\"\\n\")\n",
        "# print(File[2],\"\\n\") \n",
        "# print(File[3],\"\\n\")  \n",
        "\n",
        "train_FileNames, val_FileNames, test_FileNames = np.split(np.array(File[0]),\n",
        "                                                          [int(len(File[0])* (1 - (val_ratio + test_ratio))), \n",
        "                                                            int(len(File[0])* (1 - test_ratio))])\n",
        "\n",
        "train_FileNames = [root_dir + '/Alldata/' + name for name in train_FileNames.tolist()]\n",
        "val_FileNames = [root_dir +'/Alldata/' + name for name in val_FileNames.tolist()]\n",
        "test_FileNames = [root_dir +'/Alldata/' + name for name in test_FileNames.tolist()]\n",
        "\n",
        "train_text = [name.replace('/Alldata', '/Text1').replace(\".jpg\", \".txt\") for name in train_FileNames] \n",
        "valid_text = [name.replace('/Alldata', '/Text1').replace(\".jpg\", \".txt\") for name in val_FileNames]\n",
        "test_text = [name.replace('/Alldata', '/Text1').replace(\".jpg\", \".txt\") for name in test_FileNames]\n",
        "\n",
        "print('Total images: ', len(File[0]))\n",
        "print('Training: ', len(train_FileNames),len(train_text))\n",
        "print('Validation: ', len(val_FileNames),len(valid_text))\n",
        "print('Testing: ', len(test_FileNames),len(test_text))\n",
        "\n",
        "train_obj = [name.replace('/content/gdrive/MyDrive/YOLO_Custom/Alldata', 'data1/obj') for name in train_FileNames]\n",
        "valid_obj = [name.replace('/content/gdrive/MyDrive/YOLO_Custom/Alldata', 'data1/obj') for name in val_FileNames]\n",
        "\n",
        "\n",
        "# # saving files\n",
        "with open(\"Files1/data_train.txt\", \"w\") as f:\n",
        "    for s in train_FileNames:\n",
        "        f.write(s +\"\\n\")\n",
        "\n",
        "with open(\"Files1/data_val.txt\", \"w\") as f:\n",
        "    for s in val_FileNames:\n",
        "        f.write(s +\"\\n\")\n",
        "\n",
        "with open(\"Files1/data_test.txt\", \"w\") as f:\n",
        "    for s in test_FileNames:\n",
        "        f.write(s +\"\\n\")\n",
        "\n",
        "with open(\"Files1/text_train.txt\", \"w\") as f:\n",
        "    for s in train_text:\n",
        "        f.write(s +\"\\n\")\n",
        "\n",
        "with open(\"Files1/text_val.txt\", \"w\") as f:\n",
        "    for s in valid_text:\n",
        "        f.write(s +\"\\n\")\n",
        "\n",
        "with open(\"Files1/text_test.txt\", \"w\") as f:\n",
        "    for s in test_text:\n",
        "        f.write(s +\"\\n\")\n",
        "\n",
        "with open(\"Files1/train.txt\", \"w\") as f:\n",
        "    for s in train_obj:\n",
        "        f.write(s +\"\\n\")\n",
        "\n",
        "with open(\"Files1/vaild.txt\", \"w\") as f:\n",
        "    for s in valid_obj:\n",
        "        f.write(s +\"\\n\")\n",
        "\n",
        "# # Copy-pasting images\n",
        "for images, text in zip(train_FileNames, train_text):\n",
        "    shutil.copy(images, root_dir +'/Train1')\n",
        "    shutil.copy(text, root_dir +'/Train1')\n",
        "\n",
        "for images, text in zip(val_FileNames, valid_text):\n",
        "    shutil.copy(images, root_dir +'/Valid1')\n",
        "    shutil.copy(text, root_dir +'/Valid1')\n",
        "\n",
        "for images, text in zip(test_FileNames, test_text):\n",
        "    shutil.copy(images, root_dir +'/Test1')\n",
        "    shutil.copy(text, root_dir +'/Test1')"
      ],
      "execution_count": null,
      "outputs": [
        {
          "output_type": "stream",
          "text": [
            "Total images:  537\n",
            "Training:  429 429\n",
            "Validation:  54 54\n",
            "Testing:  54 54\n"
          ],
          "name": "stdout"
        }
      ]
    }
  ]
}