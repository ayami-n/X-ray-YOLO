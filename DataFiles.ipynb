{
  "nbformat": 4,
  "nbformat_minor": 0,
  "metadata": {
    "colab": {
      "name": "DataFiles.ipynb",
      "provenance": [],
      "collapsed_sections": [],
      "authorship_tag": "ABX9TyNqjH2ngTvkylMuYPEYmC4X",
      "include_colab_link": true
    },
    "kernelspec": {
      "name": "python3",
      "display_name": "Python 3"
    },
    "language_info": {
      "name": "python"
    }
  },
  "cells": [
    {
      "cell_type": "markdown",
      "metadata": {
        "id": "view-in-github",
        "colab_type": "text"
      },
      "source": [
        "<a href=\"https://colab.research.google.com/github/ayami-n/X-ray-YOLO/blob/main/DataFiles.ipynb\" target=\"_parent\"><img src=\"https://colab.research.google.com/assets/colab-badge.svg\" alt=\"Open In Colab\"/></a>"
      ]
    },
    {
      "cell_type": "code",
      "metadata": {
        "id": "YdQ9Ks-7ThgY",
        "colab": {
          "base_uri": "https://localhost:8080/"
        },
        "outputId": "ae405c7d-e4a7-43ea-93eb-8fffd9cd6958"
      },
      "source": [
        "from google.colab import drive\n",
        "drive.mount('/content/gdrive')"
      ],
      "execution_count": null,
      "outputs": [
        {
          "output_type": "stream",
          "text": [
            "Go to this URL in a browser: https://accounts.google.com/o/oauth2/auth?client_id=947318989803-6bn6qk8qdgf4n4g3pfee6491hc0brc4i.apps.googleusercontent.com&redirect_uri=urn%3aietf%3awg%3aoauth%3a2.0%3aoob&scope=email%20https%3a%2f%2fwww.googleapis.com%2fauth%2fdocs.test%20https%3a%2f%2fwww.googleapis.com%2fauth%2fdrive%20https%3a%2f%2fwww.googleapis.com%2fauth%2fdrive.photos.readonly%20https%3a%2f%2fwww.googleapis.com%2fauth%2fpeopleapi.readonly%20https%3a%2f%2fwww.googleapis.com%2fauth%2fdrive.activity.readonly%20https%3a%2f%2fwww.googleapis.com%2fauth%2fexperimentsandconfigs%20https%3a%2f%2fwww.googleapis.com%2fauth%2fphotos.native&response_type=code\n",
            "\n",
            "Enter your authorization code:\n",
            "4/1AX4XfWi7Ht49AsUVmnFj6iH1GDiT5MAYyMfY2J7UkDLCU57VYBlpNA4sZx8\n"
          ],
          "name": "stdout"
        }
      ]
    },
    {
      "cell_type": "code",
      "metadata": {
        "id": "qJwwac43TqIC"
      },
      "source": [
        "import glob\n",
        "import shutil\n",
        "import os\n",
        "import pandas as pd \n",
        "import numpy as np"
      ],
      "execution_count": null,
      "outputs": []
    },
    {
      "cell_type": "code",
      "metadata": {
        "id": "2Aqgv4DNTtmB",
        "colab": {
          "base_uri": "https://localhost:8080/"
        },
        "outputId": "b579c9e8-22b1-4fab-a4f4-676e814fdb9e"
      },
      "source": [
        "%cd /content/gdrive/MyDrive/YOLO_Custom"
      ],
      "execution_count": null,
      "outputs": [
        {
          "output_type": "stream",
          "text": [
            "/content/gdrive/MyDrive/YOLO_Custom\n"
          ],
          "name": "stdout"
        }
      ]
    },
    {
      "cell_type": "code",
      "metadata": {
        "id": "sn4_QVFtTyUl"
      },
      "source": [
        "%mkdir Alldata"
      ],
      "execution_count": null,
      "outputs": []
    },
    {
      "cell_type": "code",
      "metadata": {
        "id": "D7zYyBjvUFEL"
      },
      "source": [
        "src_dir = \"output\" # original folder location \n",
        "dst_dir = \"Alldata\" # save location \n",
        "for dirname, _, filenames in os.walk('output'):\n",
        "    for filename in filenames:      \n",
        "      if filename.endswith('.jpg'): #if end is with .jpg, them copy to new location\n",
        "        shutil.copy(os.path.join(dirname, filename), dst_dir)"
      ],
      "execution_count": null,
      "outputs": []
    },
    {
      "cell_type": "markdown",
      "metadata": {
        "id": "uTzGVrGtUGgz"
      },
      "source": [
        "Continue to SlimYolo1"
      ]
    }
  ]
}