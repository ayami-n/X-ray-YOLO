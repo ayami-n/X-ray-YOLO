{
  "nbformat": 4,
  "nbformat_minor": 0,
  "metadata": {
    "colab": {
      "name": "SlimYolo1.ipynb",
      "provenance": [],
      "authorship_tag": "ABX9TyMAgZRN64nYcTgAaau9muuD",
      "include_colab_link": true
    },
    "kernelspec": {
      "name": "python3",
      "display_name": "Python 3"
    },
    "language_info": {
      "name": "python"
    }
  },
  "cells": [
    {
      "cell_type": "markdown",
      "metadata": {
        "id": "view-in-github",
        "colab_type": "text"
      },
      "source": [
        "<a href=\"https://colab.research.google.com/github/ayami-n/X-ray-YOLO/blob/main/SlimYolo1.ipynb\" target=\"_parent\"><img src=\"https://colab.research.google.com/assets/colab-badge.svg\" alt=\"Open In Colab\"/></a>"
      ]
    },
    {
      "cell_type": "code",
      "metadata": {
        "id": "ewb69hKVN0cw",
        "colab": {
          "base_uri": "https://localhost:8080/"
        },
        "outputId": "ab99ec91-6828-4408-a76d-02a6aaf52ea1"
      },
      "source": [
        "from google.colab import drive\n",
        "drive.mount('/content/gdrive')"
      ],
      "execution_count": null,
      "outputs": [
        {
          "output_type": "stream",
          "text": [
            "Mounted at /content/gdrive\n"
          ],
          "name": "stdout"
        }
      ]
    },
    {
      "cell_type": "code",
      "metadata": {
        "id": "kxdU8UfSOXNX"
      },
      "source": [
        "import glob\n",
        "import shutil\n",
        "import os\n",
        "import pandas as pd \n",
        "import numpy as np"
      ],
      "execution_count": null,
      "outputs": []
    },
    {
      "cell_type": "code",
      "metadata": {
        "id": "a3YojzJlOaj_",
        "colab": {
          "base_uri": "https://localhost:8080/"
        },
        "outputId": "9ce27599-dcf1-4943-a0d6-4d2eea2af470"
      },
      "source": [
        "%cd /content/gdrive/MyDrive/YOLO_Custom"
      ],
      "execution_count": null,
      "outputs": [
        {
          "output_type": "stream",
          "text": [
            "/content/gdrive/MyDrive/YOLO_Custom\n"
          ],
          "name": "stdout"
        }
      ]
    },
    {
      "cell_type": "markdown",
      "metadata": {
        "id": "TNvqeXrnO1dc"
      },
      "source": [
        "## Creating Text Files"
      ]
    },
    {
      "cell_type": "code",
      "metadata": {
        "id": "6XAHxqasO-hO"
      },
      "source": [
        "data = pd.read_csv('train.csv')"
      ],
      "execution_count": null,
      "outputs": []
    },
    {
      "cell_type": "markdown",
      "metadata": {
        "id": "UMn4ntDbPN3D"
      },
      "source": [
        "Create a list for encoding"
      ]
    },
    {
      "cell_type": "code",
      "metadata": {
        "id": "yFh6a2fUPR3W"
      },
      "source": [
        "disease = data['Disease'].unique().tolist()\n",
        "with open('_darknet.txt', 'w') as text:\n",
        "    for listitem in disease:\n",
        "        text.write('%s\\n' % listitem)"
      ],
      "execution_count": null,
      "outputs": []
    },
    {
      "cell_type": "markdown",
      "metadata": {
        "id": "0z2_S0jKPXj0"
      },
      "source": [
        "New DataFrame for exporting"
      ]
    },
    {
      "cell_type": "code",
      "metadata": {
        "id": "x_mj_7TCPbbr"
      },
      "source": [
        "df = data[[\"id\", 'Disease', 'new_xmin', 'new_ymin', 'new_xmax', 'new_ymax']]"
      ],
      "execution_count": null,
      "outputs": []
    },
    {
      "cell_type": "markdown",
      "metadata": {
        "id": "ixE74K1CPe-q"
      },
      "source": [
        "Encoding"
      ]
    },
    {
      "cell_type": "code",
      "metadata": {
        "id": "6J5v6ElWPhWx",
        "colab": {
          "base_uri": "https://localhost:8080/"
        },
        "outputId": "01e1ea34-56b3-4cc1-e2ae-97b8c60ff392"
      },
      "source": [
        "index = 0\n",
        "for itr in data[\"Disease\"]: \n",
        "\n",
        "  if itr == disease[0]: \n",
        "    df.loc[index, \"Disease\"] = 0  # Typical Appearance\n",
        "  elif itr == disease[1]: \n",
        "    df.loc[index, \"Disease\"] = 1  # Negative for Pneumonia \n",
        "  elif itr == disease[2]: \n",
        "    df.loc[index, \"Disease\"] = 2  # Atypical Appearance\n",
        "  elif itr == disease[3]: \n",
        "    df.loc[index, \"Disease\"] = 3  # Indeterminate Appearance\n",
        "  \n",
        "  index +=1"
      ],
      "execution_count": null,
      "outputs": [
        {
          "output_type": "stream",
          "text": [
            "/usr/local/lib/python3.7/dist-packages/pandas/core/indexing.py:1763: SettingWithCopyWarning: \n",
            "A value is trying to be set on a copy of a slice from a DataFrame.\n",
            "Try using .loc[row_indexer,col_indexer] = value instead\n",
            "\n",
            "See the caveats in the documentation: https://pandas.pydata.org/pandas-docs/stable/user_guide/indexing.html#returning-a-view-versus-a-copy\n",
            "  isetter(loc, value)\n"
          ],
          "name": "stderr"
        }
      ]
    },
    {
      "cell_type": "code",
      "metadata": {
        "id": "yH6huI54PsAZ"
      },
      "source": [
        "df.to_csv('slim_yolo.csv', index=False)"
      ],
      "execution_count": null,
      "outputs": []
    },
    {
      "cell_type": "markdown",
      "metadata": {
        "id": "awbAPHCgPuUy"
      },
      "source": [
        "## Saving File (Continue to SlimYolo 2)"
      ]
    }
  ]
}