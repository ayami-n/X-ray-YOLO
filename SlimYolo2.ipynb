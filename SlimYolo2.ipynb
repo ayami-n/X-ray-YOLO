{
  "nbformat": 4,
  "nbformat_minor": 0,
  "metadata": {
    "colab": {
      "name": "SlimYolo2.ipynb",
      "provenance": [],
      "authorship_tag": "ABX9TyO7G2ag1kA4Y1/ImuYe76KZ",
      "include_colab_link": true
    },
    "kernelspec": {
      "name": "python3",
      "display_name": "Python 3"
    },
    "language_info": {
      "name": "python"
    }
  },
  "cells": [
    {
      "cell_type": "markdown",
      "metadata": {
        "id": "view-in-github",
        "colab_type": "text"
      },
      "source": [
        "<a href=\"https://colab.research.google.com/github/ayami-n/X-ray-YOLO/blob/main/SlimYolo2.ipynb\" target=\"_parent\"><img src=\"https://colab.research.google.com/assets/colab-badge.svg\" alt=\"Open In Colab\"/></a>"
      ]
    },
    {
      "cell_type": "code",
      "metadata": {
        "colab": {
          "base_uri": "https://localhost:8080/"
        },
        "id": "OAX5nz1nVopr",
        "outputId": "8ff78089-05b7-4bde-bf52-880da080826c"
      },
      "source": [
        "from google.colab import drive\n",
        "drive.mount('/content/gdrive')"
      ],
      "execution_count": null,
      "outputs": [
        {
          "output_type": "stream",
          "text": [
            "Mounted at /content/gdrive\n"
          ],
          "name": "stdout"
        }
      ]
    },
    {
      "cell_type": "code",
      "metadata": {
        "id": "cwb9sZQ8WKzV"
      },
      "source": [
        "import glob\n",
        "import shutil\n",
        "import os\n",
        "import json\n",
        "import pandas as pd \n",
        "import numpy as np"
      ],
      "execution_count": null,
      "outputs": []
    },
    {
      "cell_type": "markdown",
      "metadata": {
        "id": "M9JzJzx3WX-u"
      },
      "source": [
        "Change the location where I want to load"
      ]
    },
    {
      "cell_type": "code",
      "metadata": {
        "colab": {
          "base_uri": "https://localhost:8080/"
        },
        "id": "GsO7bigTWRTa",
        "outputId": "9e2f396d-8e4e-4719-f469-6bca39f0440a"
      },
      "source": [
        "%cd /content/gdrive/MyDrive/YOLO_Custom"
      ],
      "execution_count": null,
      "outputs": [
        {
          "output_type": "stream",
          "text": [
            "/content/gdrive/MyDrive/YOLO_Custom\n"
          ],
          "name": "stdout"
        }
      ]
    },
    {
      "cell_type": "code",
      "metadata": {
        "id": "987eQPkTWU4-"
      },
      "source": [
        "df = pd.read_csv('slim_yolo.csv')"
      ],
      "execution_count": null,
      "outputs": []
    },
    {
      "cell_type": "markdown",
      "metadata": {
        "id": "7fG4wvyLWcTb"
      },
      "source": [
        "### Removing Unbox Files from Data Frame and All Images Dataset"
      ]
    },
    {
      "cell_type": "code",
      "metadata": {
        "id": "YHibX1GGWbq6"
      },
      "source": [
        "%mkdir UnBox"
      ],
      "execution_count": null,
      "outputs": []
    },
    {
      "cell_type": "code",
      "metadata": {
        "id": "gn5qNr_cWkXa"
      },
      "source": [
        "unbox = []\n",
        "for index in range(len(df)): \n",
        "  if df.loc[index, 'new_xmax'] + df.loc[index, 'new_ymax'] == 2:     \n",
        "    unbox.append(df.loc[index, 'id'])\n",
        "    df.drop(index, inplace=True) # removing from data frame "
      ],
      "execution_count": null,
      "outputs": []
    },
    {
      "cell_type": "code",
      "metadata": {
        "id": "0AoEJbo7WpDs",
        "colab": {
          "base_uri": "https://localhost:8080/",
          "height": 425
        },
        "outputId": "c09a645b-db1a-49a2-99f5-3ee7ff4fe023"
      },
      "source": [
        "unbox = ['/content/gdrive/MyDrive/YOLO_Custom/Alldata/' + name + '.jpg' for name in unbox] \n",
        "\n",
        "for images in unbox:\n",
        "    shutil.move(images, '/content/gdrive/MyDrive/YOLO_Custom/UnBox/')"
      ],
      "execution_count": null,
      "outputs": [
        {
          "output_type": "error",
          "ename": "FileNotFoundError",
          "evalue": "ignored",
          "traceback": [
            "\u001b[0;31m---------------------------------------------------------------------------\u001b[0m",
            "\u001b[0;31mFileNotFoundError\u001b[0m                         Traceback (most recent call last)",
            "\u001b[0;32m/usr/lib/python3.7/shutil.py\u001b[0m in \u001b[0;36mmove\u001b[0;34m(src, dst, copy_function)\u001b[0m\n\u001b[1;32m    565\u001b[0m     \u001b[0;32mtry\u001b[0m\u001b[0;34m:\u001b[0m\u001b[0;34m\u001b[0m\u001b[0;34m\u001b[0m\u001b[0m\n\u001b[0;32m--> 566\u001b[0;31m         \u001b[0mos\u001b[0m\u001b[0;34m.\u001b[0m\u001b[0mrename\u001b[0m\u001b[0;34m(\u001b[0m\u001b[0msrc\u001b[0m\u001b[0;34m,\u001b[0m \u001b[0mreal_dst\u001b[0m\u001b[0;34m)\u001b[0m\u001b[0;34m\u001b[0m\u001b[0;34m\u001b[0m\u001b[0m\n\u001b[0m\u001b[1;32m    567\u001b[0m     \u001b[0;32mexcept\u001b[0m \u001b[0mOSError\u001b[0m\u001b[0;34m:\u001b[0m\u001b[0;34m\u001b[0m\u001b[0;34m\u001b[0m\u001b[0m\n",
            "\u001b[0;31mFileNotFoundError\u001b[0m: [Errno 2] No such file or directory: '/content/gdrive/MyDrive/YOLO_Custom/Alldata/000c3a3f293f.jpg' -> '/content/gdrive/MyDrive/YOLO_Custom/UnBox/000c3a3f293f.jpg'",
            "\nDuring handling of the above exception, another exception occurred:\n",
            "\u001b[0;31mFileNotFoundError\u001b[0m                         Traceback (most recent call last)",
            "\u001b[0;32m<ipython-input-10-f101befe4c53>\u001b[0m in \u001b[0;36m<module>\u001b[0;34m()\u001b[0m\n\u001b[1;32m      2\u001b[0m \u001b[0;34m\u001b[0m\u001b[0m\n\u001b[1;32m      3\u001b[0m \u001b[0;32mfor\u001b[0m \u001b[0mimages\u001b[0m \u001b[0;32min\u001b[0m \u001b[0munbox\u001b[0m\u001b[0;34m:\u001b[0m\u001b[0;34m\u001b[0m\u001b[0;34m\u001b[0m\u001b[0m\n\u001b[0;32m----> 4\u001b[0;31m     \u001b[0mshutil\u001b[0m\u001b[0;34m.\u001b[0m\u001b[0mmove\u001b[0m\u001b[0;34m(\u001b[0m\u001b[0mimages\u001b[0m\u001b[0;34m,\u001b[0m \u001b[0;34m'/content/gdrive/MyDrive/YOLO_Custom/UnBox/'\u001b[0m\u001b[0;34m)\u001b[0m\u001b[0;34m\u001b[0m\u001b[0;34m\u001b[0m\u001b[0m\n\u001b[0m",
            "\u001b[0;32m/usr/lib/python3.7/shutil.py\u001b[0m in \u001b[0;36mmove\u001b[0;34m(src, dst, copy_function)\u001b[0m\n\u001b[1;32m    578\u001b[0m             \u001b[0mrmtree\u001b[0m\u001b[0;34m(\u001b[0m\u001b[0msrc\u001b[0m\u001b[0;34m)\u001b[0m\u001b[0;34m\u001b[0m\u001b[0;34m\u001b[0m\u001b[0m\n\u001b[1;32m    579\u001b[0m         \u001b[0;32melse\u001b[0m\u001b[0;34m:\u001b[0m\u001b[0;34m\u001b[0m\u001b[0;34m\u001b[0m\u001b[0m\n\u001b[0;32m--> 580\u001b[0;31m             \u001b[0mcopy_function\u001b[0m\u001b[0;34m(\u001b[0m\u001b[0msrc\u001b[0m\u001b[0;34m,\u001b[0m \u001b[0mreal_dst\u001b[0m\u001b[0;34m)\u001b[0m\u001b[0;34m\u001b[0m\u001b[0;34m\u001b[0m\u001b[0m\n\u001b[0m\u001b[1;32m    581\u001b[0m             \u001b[0mos\u001b[0m\u001b[0;34m.\u001b[0m\u001b[0munlink\u001b[0m\u001b[0;34m(\u001b[0m\u001b[0msrc\u001b[0m\u001b[0;34m)\u001b[0m\u001b[0;34m\u001b[0m\u001b[0;34m\u001b[0m\u001b[0m\n\u001b[1;32m    582\u001b[0m     \u001b[0;32mreturn\u001b[0m \u001b[0mreal_dst\u001b[0m\u001b[0;34m\u001b[0m\u001b[0;34m\u001b[0m\u001b[0m\n",
            "\u001b[0;32m/usr/lib/python3.7/shutil.py\u001b[0m in \u001b[0;36mcopy2\u001b[0;34m(src, dst, follow_symlinks)\u001b[0m\n\u001b[1;32m    264\u001b[0m     \u001b[0;32mif\u001b[0m \u001b[0mos\u001b[0m\u001b[0;34m.\u001b[0m\u001b[0mpath\u001b[0m\u001b[0;34m.\u001b[0m\u001b[0misdir\u001b[0m\u001b[0;34m(\u001b[0m\u001b[0mdst\u001b[0m\u001b[0;34m)\u001b[0m\u001b[0;34m:\u001b[0m\u001b[0;34m\u001b[0m\u001b[0;34m\u001b[0m\u001b[0m\n\u001b[1;32m    265\u001b[0m         \u001b[0mdst\u001b[0m \u001b[0;34m=\u001b[0m \u001b[0mos\u001b[0m\u001b[0;34m.\u001b[0m\u001b[0mpath\u001b[0m\u001b[0;34m.\u001b[0m\u001b[0mjoin\u001b[0m\u001b[0;34m(\u001b[0m\u001b[0mdst\u001b[0m\u001b[0;34m,\u001b[0m \u001b[0mos\u001b[0m\u001b[0;34m.\u001b[0m\u001b[0mpath\u001b[0m\u001b[0;34m.\u001b[0m\u001b[0mbasename\u001b[0m\u001b[0;34m(\u001b[0m\u001b[0msrc\u001b[0m\u001b[0;34m)\u001b[0m\u001b[0;34m)\u001b[0m\u001b[0;34m\u001b[0m\u001b[0;34m\u001b[0m\u001b[0m\n\u001b[0;32m--> 266\u001b[0;31m     \u001b[0mcopyfile\u001b[0m\u001b[0;34m(\u001b[0m\u001b[0msrc\u001b[0m\u001b[0;34m,\u001b[0m \u001b[0mdst\u001b[0m\u001b[0;34m,\u001b[0m \u001b[0mfollow_symlinks\u001b[0m\u001b[0;34m=\u001b[0m\u001b[0mfollow_symlinks\u001b[0m\u001b[0;34m)\u001b[0m\u001b[0;34m\u001b[0m\u001b[0;34m\u001b[0m\u001b[0m\n\u001b[0m\u001b[1;32m    267\u001b[0m     \u001b[0mcopystat\u001b[0m\u001b[0;34m(\u001b[0m\u001b[0msrc\u001b[0m\u001b[0;34m,\u001b[0m \u001b[0mdst\u001b[0m\u001b[0;34m,\u001b[0m \u001b[0mfollow_symlinks\u001b[0m\u001b[0;34m=\u001b[0m\u001b[0mfollow_symlinks\u001b[0m\u001b[0;34m)\u001b[0m\u001b[0;34m\u001b[0m\u001b[0;34m\u001b[0m\u001b[0m\n\u001b[1;32m    268\u001b[0m     \u001b[0;32mreturn\u001b[0m \u001b[0mdst\u001b[0m\u001b[0;34m\u001b[0m\u001b[0;34m\u001b[0m\u001b[0m\n",
            "\u001b[0;32m/usr/lib/python3.7/shutil.py\u001b[0m in \u001b[0;36mcopyfile\u001b[0;34m(src, dst, follow_symlinks)\u001b[0m\n\u001b[1;32m    118\u001b[0m         \u001b[0mos\u001b[0m\u001b[0;34m.\u001b[0m\u001b[0msymlink\u001b[0m\u001b[0;34m(\u001b[0m\u001b[0mos\u001b[0m\u001b[0;34m.\u001b[0m\u001b[0mreadlink\u001b[0m\u001b[0;34m(\u001b[0m\u001b[0msrc\u001b[0m\u001b[0;34m)\u001b[0m\u001b[0;34m,\u001b[0m \u001b[0mdst\u001b[0m\u001b[0;34m)\u001b[0m\u001b[0;34m\u001b[0m\u001b[0;34m\u001b[0m\u001b[0m\n\u001b[1;32m    119\u001b[0m     \u001b[0;32melse\u001b[0m\u001b[0;34m:\u001b[0m\u001b[0;34m\u001b[0m\u001b[0;34m\u001b[0m\u001b[0m\n\u001b[0;32m--> 120\u001b[0;31m         \u001b[0;32mwith\u001b[0m \u001b[0mopen\u001b[0m\u001b[0;34m(\u001b[0m\u001b[0msrc\u001b[0m\u001b[0;34m,\u001b[0m \u001b[0;34m'rb'\u001b[0m\u001b[0;34m)\u001b[0m \u001b[0;32mas\u001b[0m \u001b[0mfsrc\u001b[0m\u001b[0;34m:\u001b[0m\u001b[0;34m\u001b[0m\u001b[0;34m\u001b[0m\u001b[0m\n\u001b[0m\u001b[1;32m    121\u001b[0m             \u001b[0;32mwith\u001b[0m \u001b[0mopen\u001b[0m\u001b[0;34m(\u001b[0m\u001b[0mdst\u001b[0m\u001b[0;34m,\u001b[0m \u001b[0;34m'wb'\u001b[0m\u001b[0;34m)\u001b[0m \u001b[0;32mas\u001b[0m \u001b[0mfdst\u001b[0m\u001b[0;34m:\u001b[0m\u001b[0;34m\u001b[0m\u001b[0;34m\u001b[0m\u001b[0m\n\u001b[1;32m    122\u001b[0m                 \u001b[0mcopyfileobj\u001b[0m\u001b[0;34m(\u001b[0m\u001b[0mfsrc\u001b[0m\u001b[0;34m,\u001b[0m \u001b[0mfdst\u001b[0m\u001b[0;34m)\u001b[0m\u001b[0;34m\u001b[0m\u001b[0;34m\u001b[0m\u001b[0m\n",
            "\u001b[0;31mFileNotFoundError\u001b[0m: [Errno 2] No such file or directory: '/content/gdrive/MyDrive/YOLO_Custom/Alldata/000c3a3f293f.jpg'"
          ]
        }
      ]
    },
    {
      "cell_type": "code",
      "metadata": {
        "colab": {
          "base_uri": "https://localhost:8080/",
          "height": 163
        },
        "id": "EoC2xuM2Wsaz",
        "outputId": "be3776a0-232e-49d1-abb6-9eb8e05a6c6f"
      },
      "source": [
        "unbox \n"
      ],
      "execution_count": null,
      "outputs": [
        {
          "output_type": "error",
          "ename": "NameError",
          "evalue": "ignored",
          "traceback": [
            "\u001b[0;31m---------------------------------------------------------------------------\u001b[0m",
            "\u001b[0;31mNameError\u001b[0m                                 Traceback (most recent call last)",
            "\u001b[0;32m<ipython-input-5-943cff6affd6>\u001b[0m in \u001b[0;36m<module>\u001b[0;34m()\u001b[0m\n\u001b[0;32m----> 1\u001b[0;31m \u001b[0munbox\u001b[0m\u001b[0;34m\u001b[0m\u001b[0;34m\u001b[0m\u001b[0m\n\u001b[0m",
            "\u001b[0;31mNameError\u001b[0m: name 'unbox' is not defined"
          ]
        }
      ]
    },
    {
      "cell_type": "code",
      "metadata": {
        "colab": {
          "base_uri": "https://localhost:8080/"
        },
        "id": "jnG1_pZvWuKS",
        "outputId": "e4691c5f-52b8-4ac0-8058-9dc71995fcb6"
      },
      "source": [
        "df = df.reset_index()\n",
        "print(df)\n",
        "df = df.drop(columns=['index'])\n",
        "print(df)"
      ],
      "execution_count": null,
      "outputs": [
        {
          "output_type": "stream",
          "text": [
            "      index            id  Disease  new_xmin  new_ymin  new_xmax  new_ymax\n",
            "0         0  000a312787f2        0  0.398792  0.525315  0.426679  0.716667\n",
            "1         1  000a312787f2        0  0.920160  0.506761  0.784909  0.674528\n",
            "2         3  0012ff7358bc        0  0.474487  0.313230  0.505635  0.470817\n",
            "3         4  0012ff7358bc        0  0.980874  0.474060  0.788520  0.631647\n",
            "4         5  001398f4ff4f        2  1.067173  1.015341  0.859112  0.791288\n",
            "...     ...           ...      ...       ...       ...       ...       ...\n",
            "7847   9888  ffd9b6cf2961        0  0.412114  0.631370  0.360457  0.657984\n",
            "7848   9889  ffdc682f7680        0  1.137695  0.516251  0.992839  0.841985\n",
            "7849   9890  ffdc682f7680        0  0.432292  0.792698  0.391927  0.676752\n",
            "7850   9891  ffe942c8655f        0  0.388450  0.395903  0.475726  0.631219\n",
            "7851   9892  ffe942c8655f        0  0.971321  0.430155  0.853204  0.607098\n",
            "\n",
            "[7852 rows x 7 columns]\n",
            "                id  Disease  new_xmin  new_ymin  new_xmax  new_ymax\n",
            "0     000a312787f2        0  0.398792  0.525315  0.426679  0.716667\n",
            "1     000a312787f2        0  0.920160  0.506761  0.784909  0.674528\n",
            "2     0012ff7358bc        0  0.474487  0.313230  0.505635  0.470817\n",
            "3     0012ff7358bc        0  0.980874  0.474060  0.788520  0.631647\n",
            "4     001398f4ff4f        2  1.067173  1.015341  0.859112  0.791288\n",
            "...            ...      ...       ...       ...       ...       ...\n",
            "7847  ffd9b6cf2961        0  0.412114  0.631370  0.360457  0.657984\n",
            "7848  ffdc682f7680        0  1.137695  0.516251  0.992839  0.841985\n",
            "7849  ffdc682f7680        0  0.432292  0.792698  0.391927  0.676752\n",
            "7850  ffe942c8655f        0  0.388450  0.395903  0.475726  0.631219\n",
            "7851  ffe942c8655f        0  0.971321  0.430155  0.853204  0.607098\n",
            "\n",
            "[7852 rows x 6 columns]\n"
          ],
          "name": "stdout"
        }
      ]
    },
    {
      "cell_type": "code",
      "metadata": {
        "colab": {
          "base_uri": "https://localhost:8080/"
        },
        "id": "h6WoH9iDW3rc",
        "outputId": "d77c9181-81b7-42d7-98cd-f104b0fb1290"
      },
      "source": [
        "path = '/content/gdrive/MyDrive/YOLO_Custom/Alldata'\n",
        "len(os.listdir(path)) # 4293? "
      ],
      "execution_count": null,
      "outputs": [
        {
          "output_type": "execute_result",
          "data": {
            "text/plain": [
              "4293"
            ]
          },
          "metadata": {
            "tags": []
          },
          "execution_count": 27
        }
      ]
    },
    {
      "cell_type": "markdown",
      "metadata": {
        "id": "nRvYYggtW6ul"
      },
      "source": [
        "Group by ID's"
      ]
    },
    {
      "cell_type": "code",
      "metadata": {
        "id": "7dFpjjQYXBLd"
      },
      "source": [
        "df = df.groupby(['id']).agg(lambda x: x.tolist())"
      ],
      "execution_count": null,
      "outputs": []
    },
    {
      "cell_type": "code",
      "metadata": {
        "id": "xAR-0ukEXEij"
      },
      "source": [
        "df = df.reset_index()"
      ],
      "execution_count": null,
      "outputs": []
    },
    {
      "cell_type": "code",
      "metadata": {
        "colab": {
          "base_uri": "https://localhost:8080/",
          "height": 111
        },
        "id": "WvAO-ezXXEsr",
        "outputId": "cecb608c-73ad-4dc1-e1c5-7b15a8169cda"
      },
      "source": [
        "df.head(2)"
      ],
      "execution_count": null,
      "outputs": [
        {
          "output_type": "execute_result",
          "data": {
            "text/html": [
              "<div>\n",
              "<style scoped>\n",
              "    .dataframe tbody tr th:only-of-type {\n",
              "        vertical-align: middle;\n",
              "    }\n",
              "\n",
              "    .dataframe tbody tr th {\n",
              "        vertical-align: top;\n",
              "    }\n",
              "\n",
              "    .dataframe thead th {\n",
              "        text-align: right;\n",
              "    }\n",
              "</style>\n",
              "<table border=\"1\" class=\"dataframe\">\n",
              "  <thead>\n",
              "    <tr style=\"text-align: right;\">\n",
              "      <th></th>\n",
              "      <th>id</th>\n",
              "      <th>Disease</th>\n",
              "      <th>new_xmin</th>\n",
              "      <th>new_ymin</th>\n",
              "      <th>new_xmax</th>\n",
              "      <th>new_ymax</th>\n",
              "    </tr>\n",
              "  </thead>\n",
              "  <tbody>\n",
              "    <tr>\n",
              "      <th>0</th>\n",
              "      <td>000a312787f2</td>\n",
              "      <td>[0, 0]</td>\n",
              "      <td>[0.39879249295112784, 0.9201595230263157]</td>\n",
              "      <td>[0.5253145025802753, 0.5067610779816514]</td>\n",
              "      <td>[0.4266788016917293, 0.7849092340225563]</td>\n",
              "      <td>[0.7166666485091745, 0.6745283027522936]</td>\n",
              "    </tr>\n",
              "    <tr>\n",
              "      <th>1</th>\n",
              "      <td>0012ff7358bc</td>\n",
              "      <td>[0, 0]</td>\n",
              "      <td>[0.4744869355366492, 0.980873570026178]</td>\n",
              "      <td>[0.3132295597484276, 0.4740596501572327]</td>\n",
              "      <td>[0.5056347611256544, 0.7885202814136125]</td>\n",
              "      <td>[0.4708171226415094, 0.6316472091194968]</td>\n",
              "    </tr>\n",
              "  </tbody>\n",
              "</table>\n",
              "</div>"
            ],
            "text/plain": [
              "             id  ...                                  new_ymax\n",
              "0  000a312787f2  ...  [0.7166666485091745, 0.6745283027522936]\n",
              "1  0012ff7358bc  ...  [0.4708171226415094, 0.6316472091194968]\n",
              "\n",
              "[2 rows x 6 columns]"
            ]
          },
          "metadata": {
            "tags": []
          },
          "execution_count": 30
        }
      ]
    },
    {
      "cell_type": "markdown",
      "metadata": {
        "id": "PGrfyexNXJ9M"
      },
      "source": [
        "### Change the location where I want to save"
      ]
    },
    {
      "cell_type": "code",
      "metadata": {
        "id": "T1y9dJNTXRgM"
      },
      "source": [
        "%mkdir Text"
      ],
      "execution_count": null,
      "outputs": []
    },
    {
      "cell_type": "code",
      "metadata": {
        "colab": {
          "base_uri": "https://localhost:8080/"
        },
        "id": "FdOTEF9lXT9-",
        "outputId": "3f5e7827-a65d-4702-d99d-a9aae260a4ec"
      },
      "source": [
        "%cd /content/gdrive/MyDrive/YOLO_Custom/Text"
      ],
      "execution_count": null,
      "outputs": [
        {
          "output_type": "stream",
          "text": [
            "/content/gdrive/MyDrive/YOLO_Custom/Text\n"
          ],
          "name": "stdout"
        }
      ]
    },
    {
      "cell_type": "code",
      "metadata": {
        "colab": {
          "base_uri": "https://localhost:8080/"
        },
        "id": "thXsDDauWQ5H",
        "outputId": "a0951fc6-5f5c-400f-8f50-b211b48fd843"
      },
      "source": [
        "%cd /content/gdrive/MyDrive/YOLO_Custom/Text1"
      ],
      "execution_count": null,
      "outputs": [
        {
          "output_type": "stream",
          "text": [
            "/content/gdrive/MyDrive/YOLO_Custom/Text1\n"
          ],
          "name": "stdout"
        }
      ]
    },
    {
      "cell_type": "markdown",
      "metadata": {
        "id": "JBjVBewCXYK8"
      },
      "source": [
        "Exporting"
      ]
    },
    {
      "cell_type": "code",
      "metadata": {
        "id": "tETq5mCvXdZ1"
      },
      "source": [
        "for index in range(len(df)):\n",
        "\n",
        "  id = df.loc[index, 'id'] \n",
        "\n",
        "  save_list = [ df.loc[index, 'Disease'], df.loc[index, 'new_xmin'], df.loc[index, 'new_ymin'], df.loc[index, 'new_xmax'], df.loc[index, 'new_ymax'] ]\n",
        "  \n",
        "  save = ''\n",
        "  df_save = pd.DataFrame(['a', 'b', 'c', 'd', 'e'])\n",
        "\n",
        "  for a, b, c, d, e in zip(*save_list):\n",
        "    temp_list = [a, b, c, d, e]\n",
        "    save +=json.dumps(temp_list).strip('\"') #str() used \n",
        "\n",
        "  save = save.replace(\"[\", '').replace(\",\", '').replace(']', \"\\n\")\n",
        "  \n",
        "  with open(id + \".txt\", \"w\") as text_file:\n",
        "    text_file.write(save + '\\n')\n",
        "  \n",
        "# it takes time around 15min to reflect on google drive !!!"
      ],
      "execution_count": null,
      "outputs": []
    },
    {
      "cell_type": "markdown",
      "metadata": {
        "id": "uwMfcwAGXgn7"
      },
      "source": [
        "Checking All files are exported becasue sometimes cannot export well even the code is correctly working"
      ]
    },
    {
      "cell_type": "code",
      "metadata": {
        "colab": {
          "base_uri": "https://localhost:8080/"
        },
        "id": "6cRL8K9gXi6T",
        "outputId": "169b8517-b411-49c0-b7df-55e4d3e53d9c"
      },
      "source": [
        "data = '/content/gdrive/MyDrive/YOLO_Custom/Text1'\n",
        "df['id']\n",
        "if len(df['id']) == len(os.listdir(data)):\n",
        "  print('okay!!!',len(df['id']),len(os.listdir(data)))\n",
        "else:\n",
        "  print('again',len(df['id']),len(os.listdir(data)))"
      ],
      "execution_count": null,
      "outputs": [
        {
          "output_type": "stream",
          "text": [
            "okay!!! 4294 4294\n"
          ],
          "name": "stdout"
        }
      ]
    }
  ]
}