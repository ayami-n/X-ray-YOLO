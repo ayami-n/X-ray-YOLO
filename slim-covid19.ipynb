{
 "cells": [
  {
   "cell_type": "code",
   "execution_count": 1,
   "id": "completed-translator",
   "metadata": {
    "execution": {
     "iopub.execute_input": "2021-07-12T06:25:26.005762Z",
     "iopub.status.busy": "2021-07-12T06:25:26.004540Z",
     "iopub.status.idle": "2021-07-12T06:25:26.227545Z",
     "shell.execute_reply": "2021-07-12T06:25:26.228080Z",
     "shell.execute_reply.started": "2021-07-12T06:05:28.237914Z"
    },
    "papermill": {
     "duration": 0.261007,
     "end_time": "2021-07-12T06:25:26.228411",
     "exception": false,
     "start_time": "2021-07-12T06:25:25.967404",
     "status": "completed"
    },
    "tags": []
   },
   "outputs": [],
   "source": [
    "# This Python 3 environment comes with many helpful analytics libraries installed\n",
    "# It is defined by the kaggle/python Docker image: https://github.com/kaggle/docker-python\n",
    "# For example, here's several helpful packages to load\n",
    "\n",
    "import numpy as np # linear algebra\n",
    "import pandas as pd # data processing, CSV file I/O (e.g. pd.read_csv)\n",
    "import pydicom\n",
    "import scipy.misc\n",
    "# Input data files are available in the read-only \"../input/\" directory\n",
    "# For example, running this (by clicking run or pressing Shift+Enter) will list all files under the input directory\n",
    "\n",
    "import os\n",
    "os.chdir(\"/kaggle/input/\")\n",
    "# os.mkdir('/kaggle/input/slim_trained')\n",
    "for dirname, _, filenames in os.walk('../input/siim-covid19-detectionut'):\n",
    "    for filename in filenames:\n",
    "        print(os.path.join(dirname, filename))\n",
    "\n",
    "# You can write up to 20GB to the current directory (/kaggle/working/) that gets preserved as output when you create a version using \"Save & Run All\" \n",
    "# You can also write temporary files to /kaggle/temp/, but they won't be saved outside of the current session"
   ]
  },
  {
   "cell_type": "code",
   "execution_count": 2,
   "id": "resident-scotland",
   "metadata": {
    "execution": {
     "iopub.execute_input": "2021-07-12T06:25:26.326642Z",
     "iopub.status.busy": "2021-07-12T06:25:26.325901Z",
     "iopub.status.idle": "2021-07-12T06:25:26.401479Z",
     "shell.execute_reply": "2021-07-12T06:25:26.400827Z",
     "shell.execute_reply.started": "2021-07-10T02:14:55.729957Z"
    },
    "papermill": {
     "duration": 0.130139,
     "end_time": "2021-07-12T06:25:26.401625",
     "exception": false,
     "start_time": "2021-07-12T06:25:26.271486",
     "status": "completed"
    },
    "tags": []
   },
   "outputs": [],
   "source": [
    "data_image = pd.read_csv(r'../input/siim-covid19-detection/train_image_level.csv')\n",
    "data_study  = pd.read_csv(r'../input/siim-covid19-detection/train_study_level.csv')"
   ]
  },
  {
   "cell_type": "code",
   "execution_count": 3,
   "id": "static-intake",
   "metadata": {
    "execution": {
     "iopub.execute_input": "2021-07-12T06:25:26.482269Z",
     "iopub.status.busy": "2021-07-12T06:25:26.481574Z",
     "iopub.status.idle": "2021-07-12T06:25:26.493830Z",
     "shell.execute_reply": "2021-07-12T06:25:26.494618Z",
     "shell.execute_reply.started": "2021-07-10T02:15:04.525301Z"
    },
    "papermill": {
     "duration": 0.061118,
     "end_time": "2021-07-12T06:25:26.494877",
     "exception": false,
     "start_time": "2021-07-12T06:25:26.433759",
     "status": "completed"
    },
    "tags": []
   },
   "outputs": [
    {
     "name": "stdout",
     "output_type": "stream",
     "text": [
      "id\n",
      "6334\n",
      "boxes\n",
      "4295\n",
      "label\n",
      "4295\n",
      "StudyInstanceUID\n",
      "6054\n",
      "\n",
      "\n",
      "6054\n"
     ]
    }
   ],
   "source": [
    "for image in data_image:\n",
    "    print(image)\n",
    "    print(len(data_image[image].unique().tolist()))\n",
    "    \n",
    "print('\\n')\n",
    "print(len(data_study['id'].unique().tolist()))    "
   ]
  },
  {
   "cell_type": "markdown",
   "id": "together-pierre",
   "metadata": {
    "papermill": {
     "duration": 0.031378,
     "end_time": "2021-07-12T06:25:26.559946",
     "exception": false,
     "start_time": "2021-07-12T06:25:26.528568",
     "status": "completed"
    },
    "tags": []
   },
   "source": [
    "data_image['StudyInstanceUID'] and data_study['id'] are the same. -> they are related. <br>\n",
    "data_image['id'] and data_study['id'] are not the same. -> some data_study are duplicated."
   ]
  },
  {
   "cell_type": "markdown",
   "id": "smaller-military",
   "metadata": {
    "papermill": {
     "duration": 0.032456,
     "end_time": "2021-07-12T06:25:26.626274",
     "exception": false,
     "start_time": "2021-07-12T06:25:26.593818",
     "status": "completed"
    },
    "tags": []
   },
   "source": [
    "# **Concatinate the above files by ID's**"
   ]
  },
  {
   "cell_type": "markdown",
   "id": "conceptual-context",
   "metadata": {
    "papermill": {
     "duration": 0.031713,
     "end_time": "2021-07-12T06:25:26.690449",
     "exception": false,
     "start_time": "2021-07-12T06:25:26.658736",
     "status": "completed"
    },
    "tags": []
   },
   "source": [
    "**Step1: Get the Path for the images**"
   ]
  },
  {
   "cell_type": "code",
   "execution_count": 4,
   "id": "exempt-vampire",
   "metadata": {
    "execution": {
     "iopub.execute_input": "2021-07-12T06:25:26.758760Z",
     "iopub.status.busy": "2021-07-12T06:25:26.757773Z",
     "iopub.status.idle": "2021-07-12T06:25:52.496865Z",
     "shell.execute_reply": "2021-07-12T06:25:52.497429Z",
     "shell.execute_reply.started": "2021-07-10T02:15:08.077892Z"
    },
    "papermill": {
     "duration": 25.775528,
     "end_time": "2021-07-12T06:25:52.497609",
     "exception": false,
     "start_time": "2021-07-12T06:25:26.722081",
     "status": "completed"
    },
    "tags": []
   },
   "outputs": [],
   "source": [
    "trainimlist = []\n",
    "\n",
    "for dirname, _, filenames in os.walk('../input/siim-covid19-detection/train'):\n",
    "    for filename in filenames:\n",
    "        trainimlist.append(os.path.join(dirname, filename))"
   ]
  },
  {
   "cell_type": "markdown",
   "id": "electric-orchestra",
   "metadata": {
    "papermill": {
     "duration": 0.031286,
     "end_time": "2021-07-12T06:25:52.560579",
     "exception": false,
     "start_time": "2021-07-12T06:25:52.529293",
     "status": "completed"
    },
    "tags": []
   },
   "source": [
    "**Step2: check image_id and train/Id's are the same**"
   ]
  },
  {
   "cell_type": "code",
   "execution_count": 5,
   "id": "acoustic-talent",
   "metadata": {
    "execution": {
     "iopub.execute_input": "2021-07-12T06:25:52.641337Z",
     "iopub.status.busy": "2021-07-12T06:25:52.640141Z",
     "iopub.status.idle": "2021-07-12T06:25:59.019538Z",
     "shell.execute_reply": "2021-07-12T06:25:59.020041Z",
     "shell.execute_reply.started": "2021-07-10T02:15:34.205024Z"
    },
    "papermill": {
     "duration": 6.427041,
     "end_time": "2021-07-12T06:25:59.020245",
     "exception": false,
     "start_time": "2021-07-12T06:25:52.593204",
     "status": "completed"
    },
    "tags": []
   },
   "outputs": [],
   "source": [
    "# check id in train_imgage_level and Names in the train folder are the same\n",
    "\n",
    "# to store path with order by id in train_imgage_level\n",
    "\n",
    "Path = [] \n",
    "\n",
    "for image_id in data_image['id']:\n",
    "    target = image_id.replace('_image', '')\n",
    "    for path in trainimlist:\n",
    "        if target in path: \n",
    "            Path.append(path)"
   ]
  },
  {
   "cell_type": "markdown",
   "id": "serial-viking",
   "metadata": {
    "papermill": {
     "duration": 0.034002,
     "end_time": "2021-07-12T06:25:59.087356",
     "exception": false,
     "start_time": "2021-07-12T06:25:59.053354",
     "status": "completed"
    },
    "tags": []
   },
   "source": [
    "**Adding the Path list to the data_image file**"
   ]
  },
  {
   "cell_type": "code",
   "execution_count": 6,
   "id": "legislative-burlington",
   "metadata": {
    "execution": {
     "iopub.execute_input": "2021-07-12T06:25:59.166146Z",
     "iopub.status.busy": "2021-07-12T06:25:59.165466Z",
     "iopub.status.idle": "2021-07-12T06:25:59.175422Z",
     "shell.execute_reply": "2021-07-12T06:25:59.175907Z",
     "shell.execute_reply.started": "2021-07-10T02:15:43.879804Z"
    },
    "papermill": {
     "duration": 0.055006,
     "end_time": "2021-07-12T06:25:59.176092",
     "exception": false,
     "start_time": "2021-07-12T06:25:59.121086",
     "status": "completed"
    },
    "tags": []
   },
   "outputs": [
    {
     "data": {
      "text/plain": [
       "6334"
      ]
     },
     "execution_count": 6,
     "metadata": {},
     "output_type": "execute_result"
    }
   ],
   "source": [
    "data_image[\"Path\"] = pd.Series(Path, index=data_image.index)\n",
    "\n",
    "# data_image id (6334) and images in train folder (6334) are one-to-one relationships\n",
    "len(data_image['Path'].unique().tolist())"
   ]
  },
  {
   "cell_type": "code",
   "execution_count": 7,
   "id": "ranging-memphis",
   "metadata": {
    "execution": {
     "iopub.execute_input": "2021-07-12T06:25:59.266606Z",
     "iopub.status.busy": "2021-07-12T06:25:59.265477Z",
     "iopub.status.idle": "2021-07-12T06:25:59.287290Z",
     "shell.execute_reply": "2021-07-12T06:25:59.288157Z",
     "shell.execute_reply.started": "2021-07-09T05:52:01.986107Z"
    },
    "papermill": {
     "duration": 0.071556,
     "end_time": "2021-07-12T06:25:59.288437",
     "exception": false,
     "start_time": "2021-07-12T06:25:59.216881",
     "status": "completed"
    },
    "tags": []
   },
   "outputs": [
    {
     "data": {
      "text/html": [
       "<div>\n",
       "<style scoped>\n",
       "    .dataframe tbody tr th:only-of-type {\n",
       "        vertical-align: middle;\n",
       "    }\n",
       "\n",
       "    .dataframe tbody tr th {\n",
       "        vertical-align: top;\n",
       "    }\n",
       "\n",
       "    .dataframe thead th {\n",
       "        text-align: right;\n",
       "    }\n",
       "</style>\n",
       "<table border=\"1\" class=\"dataframe\">\n",
       "  <thead>\n",
       "    <tr style=\"text-align: right;\">\n",
       "      <th></th>\n",
       "      <th>id</th>\n",
       "      <th>boxes</th>\n",
       "      <th>label</th>\n",
       "      <th>StudyInstanceUID</th>\n",
       "      <th>Path</th>\n",
       "    </tr>\n",
       "  </thead>\n",
       "  <tbody>\n",
       "    <tr>\n",
       "      <th>0</th>\n",
       "      <td>000a312787f2_image</td>\n",
       "      <td>[{'x': 789.28836, 'y': 582.43035, 'width': 102...</td>\n",
       "      <td>opacity 1 789.28836 582.43035 1815.94498 2499....</td>\n",
       "      <td>5776db0cec75</td>\n",
       "      <td>../input/siim-covid19-detection/train/5776db0c...</td>\n",
       "    </tr>\n",
       "    <tr>\n",
       "      <th>1</th>\n",
       "      <td>000c3a3f293f_image</td>\n",
       "      <td>NaN</td>\n",
       "      <td>none 1 0 0 1 1</td>\n",
       "      <td>ff0879eb20ed</td>\n",
       "      <td>../input/siim-covid19-detection/train/ff0879eb...</td>\n",
       "    </tr>\n",
       "    <tr>\n",
       "      <th>2</th>\n",
       "      <td>0012ff7358bc_image</td>\n",
       "      <td>[{'x': 677.42216, 'y': 197.97662, 'width': 867...</td>\n",
       "      <td>opacity 1 677.42216 197.97662 1545.21983 1197....</td>\n",
       "      <td>9d514ce429a7</td>\n",
       "      <td>../input/siim-covid19-detection/train/9d514ce4...</td>\n",
       "    </tr>\n",
       "  </tbody>\n",
       "</table>\n",
       "</div>"
      ],
      "text/plain": [
       "                   id                                              boxes  \\\n",
       "0  000a312787f2_image  [{'x': 789.28836, 'y': 582.43035, 'width': 102...   \n",
       "1  000c3a3f293f_image                                                NaN   \n",
       "2  0012ff7358bc_image  [{'x': 677.42216, 'y': 197.97662, 'width': 867...   \n",
       "\n",
       "                                               label StudyInstanceUID  \\\n",
       "0  opacity 1 789.28836 582.43035 1815.94498 2499....     5776db0cec75   \n",
       "1                                     none 1 0 0 1 1     ff0879eb20ed   \n",
       "2  opacity 1 677.42216 197.97662 1545.21983 1197....     9d514ce429a7   \n",
       "\n",
       "                                                Path  \n",
       "0  ../input/siim-covid19-detection/train/5776db0c...  \n",
       "1  ../input/siim-covid19-detection/train/ff0879eb...  \n",
       "2  ../input/siim-covid19-detection/train/9d514ce4...  "
      ]
     },
     "execution_count": 7,
     "metadata": {},
     "output_type": "execute_result"
    }
   ],
   "source": [
    "# checking \n",
    "data_image.head(3)"
   ]
  },
  {
   "cell_type": "code",
   "execution_count": 8,
   "id": "velvet-compact",
   "metadata": {
    "execution": {
     "iopub.execute_input": "2021-07-12T06:25:59.365459Z",
     "iopub.status.busy": "2021-07-12T06:25:59.364715Z",
     "iopub.status.idle": "2021-07-12T06:26:33.487337Z",
     "shell.execute_reply": "2021-07-12T06:26:33.487804Z",
     "shell.execute_reply.started": "2021-07-10T02:15:48.596532Z"
    },
    "papermill": {
     "duration": 34.160432,
     "end_time": "2021-07-12T06:26:33.488018",
     "exception": false,
     "start_time": "2021-07-12T06:25:59.327586",
     "status": "completed"
    },
    "tags": []
   },
   "outputs": [],
   "source": [
    "for itr in data_study['id']:\n",
    "    data_study['id'] = data_study['id'].str.replace('_study', '')"
   ]
  },
  {
   "cell_type": "markdown",
   "id": "defined-think",
   "metadata": {
    "papermill": {
     "duration": 0.032669,
     "end_time": "2021-07-12T06:26:33.554770",
     "exception": false,
     "start_time": "2021-07-12T06:26:33.522101",
     "status": "completed"
    },
    "tags": []
   },
   "source": [
    "StudyInstanceID and data_study['id'] are related. <br>\n",
    "So, removing _study from data_study for merge the 2 data-frames."
   ]
  },
  {
   "cell_type": "code",
   "execution_count": 9,
   "id": "overall-hamburg",
   "metadata": {
    "execution": {
     "iopub.execute_input": "2021-07-12T06:26:33.622712Z",
     "iopub.status.busy": "2021-07-12T06:26:33.622066Z",
     "iopub.status.idle": "2021-07-12T06:26:33.626885Z",
     "shell.execute_reply": "2021-07-12T06:26:33.627444Z",
     "shell.execute_reply.started": "2021-07-10T02:16:25.856013Z"
    },
    "papermill": {
     "duration": 0.040083,
     "end_time": "2021-07-12T06:26:33.627627",
     "exception": false,
     "start_time": "2021-07-12T06:26:33.587544",
     "status": "completed"
    },
    "tags": []
   },
   "outputs": [],
   "source": [
    "data_study = data_study.rename(columns={'id': \"StudyInstanceUID\"})"
   ]
  },
  {
   "cell_type": "markdown",
   "id": "genuine-german",
   "metadata": {
    "papermill": {
     "duration": 0.032536,
     "end_time": "2021-07-12T06:26:33.692529",
     "exception": false,
     "start_time": "2021-07-12T06:26:33.659993",
     "status": "completed"
    },
    "tags": []
   },
   "source": [
    "This step is for merge as merge requires the same column name"
   ]
  },
  {
   "cell_type": "code",
   "execution_count": 10,
   "id": "tamil-samba",
   "metadata": {
    "execution": {
     "iopub.execute_input": "2021-07-12T06:26:33.766111Z",
     "iopub.status.busy": "2021-07-12T06:26:33.765126Z",
     "iopub.status.idle": "2021-07-12T06:26:33.786282Z",
     "shell.execute_reply": "2021-07-12T06:26:33.786807Z",
     "shell.execute_reply.started": "2021-07-10T02:16:28.328907Z"
    },
    "papermill": {
     "duration": 0.058897,
     "end_time": "2021-07-12T06:26:33.786986",
     "exception": false,
     "start_time": "2021-07-12T06:26:33.728089",
     "status": "completed"
    },
    "tags": []
   },
   "outputs": [],
   "source": [
    "train = pd.merge(data_image, data_study, on='StudyInstanceUID')"
   ]
  },
  {
   "cell_type": "markdown",
   "id": "optical-macedonia",
   "metadata": {
    "papermill": {
     "duration": 0.032743,
     "end_time": "2021-07-12T06:26:33.851893",
     "exception": false,
     "start_time": "2021-07-12T06:26:33.819150",
     "status": "completed"
    },
    "tags": []
   },
   "source": [
    "Only rows are kept for which common keys are found in both data frames. <br>\n",
    "In case you want to keep all rows from the left data frame (data_image) and only add values from data_study where a matching key is available, you can use how=\"left\"."
   ]
  },
  {
   "cell_type": "code",
   "execution_count": 11,
   "id": "patent-disney",
   "metadata": {
    "execution": {
     "iopub.execute_input": "2021-07-12T06:26:33.921522Z",
     "iopub.status.busy": "2021-07-12T06:26:33.920601Z",
     "iopub.status.idle": "2021-07-12T06:26:34.020847Z",
     "shell.execute_reply": "2021-07-12T06:26:34.021427Z",
     "shell.execute_reply.started": "2021-07-10T02:24:11.847671Z"
    },
    "papermill": {
     "duration": 0.136513,
     "end_time": "2021-07-12T06:26:34.021619",
     "exception": false,
     "start_time": "2021-07-12T06:26:33.885106",
     "status": "completed"
    },
    "tags": []
   },
   "outputs": [],
   "source": [
    "# saving data_frame: check output /kaggle/working/slim folder \n",
    "train.to_csv('/kaggle/working/train_data.csv',index=False)"
   ]
  },
  {
   "cell_type": "markdown",
   "id": "rubber-accreditation",
   "metadata": {
    "papermill": {
     "duration": 0.032071,
     "end_time": "2021-07-12T06:26:34.086642",
     "exception": false,
     "start_time": "2021-07-12T06:26:34.054571",
     "status": "completed"
    },
    "tags": []
   },
   "source": [
    "# Analyzing DataSet"
   ]
  },
  {
   "cell_type": "markdown",
   "id": "czech-penalty",
   "metadata": {
    "papermill": {
     "duration": 0.031761,
     "end_time": "2021-07-12T06:26:34.152123",
     "exception": false,
     "start_time": "2021-07-12T06:26:34.120362",
     "status": "completed"
    },
    "tags": []
   },
   "source": [
    "**Importing dataset**"
   ]
  },
  {
   "cell_type": "code",
   "execution_count": 12,
   "id": "demonstrated-bulgarian",
   "metadata": {
    "execution": {
     "iopub.execute_input": "2021-07-12T06:26:34.222605Z",
     "iopub.status.busy": "2021-07-12T06:26:34.221891Z",
     "iopub.status.idle": "2021-07-12T06:26:34.290594Z",
     "shell.execute_reply": "2021-07-12T06:26:34.291120Z",
     "shell.execute_reply.started": "2021-07-12T06:05:34.522123Z"
    },
    "papermill": {
     "duration": 0.106891,
     "end_time": "2021-07-12T06:26:34.291344",
     "exception": false,
     "start_time": "2021-07-12T06:26:34.184453",
     "status": "completed"
    },
    "tags": []
   },
   "outputs": [],
   "source": [
    "train_data = pd.read_csv('../input/slim-trained/train_data.csv')"
   ]
  },
  {
   "cell_type": "markdown",
   "id": "swedish-mention",
   "metadata": {
    "papermill": {
     "duration": 0.034822,
     "end_time": "2021-07-12T06:26:34.360893",
     "exception": false,
     "start_time": "2021-07-12T06:26:34.326071",
     "status": "completed"
    },
    "tags": []
   },
   "source": [
    "**Analyzing proportion of the type of disease**"
   ]
  },
  {
   "cell_type": "code",
   "execution_count": 13,
   "id": "patient-direction",
   "metadata": {
    "execution": {
     "iopub.execute_input": "2021-07-12T06:26:34.430542Z",
     "iopub.status.busy": "2021-07-12T06:26:34.429864Z",
     "iopub.status.idle": "2021-07-12T06:26:34.442195Z",
     "shell.execute_reply": "2021-07-12T06:26:34.442756Z",
     "shell.execute_reply.started": "2021-07-10T06:27:25.326744Z"
    },
    "papermill": {
     "duration": 0.04992,
     "end_time": "2021-07-12T06:26:34.442935",
     "exception": false,
     "start_time": "2021-07-12T06:26:34.393015",
     "status": "completed"
    },
    "tags": []
   },
   "outputs": [
    {
     "name": "stdout",
     "output_type": "stream",
     "text": [
      "0    4598\n",
      "1    1736\n",
      "Name: Negative for Pneumonia, dtype: int64\n",
      "0    3327\n",
      "1    3007\n",
      "Name: Typical Appearance, dtype: int64\n",
      "0    5226\n",
      "1    1108\n",
      "Name: Indeterminate Appearance, dtype: int64\n",
      "0    5851\n",
      "1     483\n",
      "Name: Atypical Appearance, dtype: int64\n"
     ]
    }
   ],
   "source": [
    "for itr in train_data[['Negative for Pneumonia', 'Typical Appearance', 'Indeterminate Appearance',\n",
    "       'Atypical Appearance' ]]:\n",
    "    print(train_data[itr].value_counts())"
   ]
  },
  {
   "cell_type": "code",
   "execution_count": 14,
   "id": "confidential-spell",
   "metadata": {
    "execution": {
     "iopub.execute_input": "2021-07-12T06:26:34.518034Z",
     "iopub.status.busy": "2021-07-12T06:26:34.517394Z",
     "iopub.status.idle": "2021-07-12T06:26:35.861027Z",
     "shell.execute_reply": "2021-07-12T06:26:35.860027Z",
     "shell.execute_reply.started": "2021-07-10T06:12:34.568627Z"
    },
    "papermill": {
     "duration": 1.385602,
     "end_time": "2021-07-12T06:26:35.861183",
     "exception": false,
     "start_time": "2021-07-12T06:26:34.475581",
     "status": "completed"
    },
    "tags": []
   },
   "outputs": [
    {
     "data": {
      "text/plain": [
       "<AxesSubplot:xlabel='Atypical Appearance', ylabel='count'>"
      ]
     },
     "execution_count": 14,
     "metadata": {},
     "output_type": "execute_result"
    },
    {
     "data": {
      "image/png": "[encoded data removed]",
      "text/plain": [
       "<Figure size 1080x360 with 4 Axes>"
      ]
     },
     "metadata": {
      "needs_background": "light"
     },
     "output_type": "display_data"
    }
   ],
   "source": [
    "import matplotlib.pyplot as plt\n",
    "import seaborn as sns\n",
    "\n",
    "fig, axes = plt.subplots(1, 4, figsize=(15, 5))\n",
    "fig.suptitle('Type of Diseases')\n",
    "sns.countplot(ax=axes[0], x='Negative for Pneumonia', data=train_data)\n",
    "sns.countplot(ax=axes[1], x='Typical Appearance', data=train_data)\n",
    "sns.countplot(ax=axes[2], x='Indeterminate Appearance', data=train_data)\n",
    "sns.countplot(ax=axes[3], x='Atypical Appearance', data=train_data)"
   ]
  },
  {
   "cell_type": "markdown",
   "id": "exact-student",
   "metadata": {
    "papermill": {
     "duration": 0.033567,
     "end_time": "2021-07-12T06:26:35.928935",
     "exception": false,
     "start_time": "2021-07-12T06:26:35.895368",
     "status": "completed"
    },
    "tags": []
   },
   "source": [
    "**Separating data by the type of disease**"
   ]
  },
  {
   "cell_type": "code",
   "execution_count": 15,
   "id": "afraid-foster",
   "metadata": {
    "execution": {
     "iopub.execute_input": "2021-07-12T06:26:36.002834Z",
     "iopub.status.busy": "2021-07-12T06:26:36.002165Z",
     "iopub.status.idle": "2021-07-12T06:26:36.026093Z",
     "shell.execute_reply": "2021-07-12T06:26:36.025479Z",
     "shell.execute_reply.started": "2021-07-12T06:05:38.736138Z"
    },
    "papermill": {
     "duration": 0.06335,
     "end_time": "2021-07-12T06:26:36.026255",
     "exception": false,
     "start_time": "2021-07-12T06:26:35.962905",
     "status": "completed"
    },
    "tags": []
   },
   "outputs": [],
   "source": [
    "df = train_data.loc[(train_data['Typical Appearance'] == 1),['id','boxes']] #df will contain only id and boxes info of Typical Appearance"
   ]
  },
  {
   "cell_type": "markdown",
   "id": "substantial-acoustic",
   "metadata": {
    "papermill": {
     "duration": 0.033268,
     "end_time": "2021-07-12T06:26:36.094203",
     "exception": false,
     "start_time": "2021-07-12T06:26:36.060935",
     "status": "completed"
    },
    "tags": []
   },
   "source": [
    "**checking no boundig boxes**"
   ]
  },
  {
   "cell_type": "code",
   "execution_count": 16,
   "id": "harmful-camping",
   "metadata": {
    "execution": {
     "iopub.execute_input": "2021-07-12T06:26:36.177004Z",
     "iopub.status.busy": "2021-07-12T06:26:36.176343Z",
     "iopub.status.idle": "2021-07-12T06:26:36.180200Z",
     "shell.execute_reply": "2021-07-12T06:26:36.180690Z",
     "shell.execute_reply.started": "2021-07-12T06:05:41.618970Z"
    },
    "papermill": {
     "duration": 0.04868,
     "end_time": "2021-07-12T06:26:36.180887",
     "exception": false,
     "start_time": "2021-07-12T06:26:36.132207",
     "status": "completed"
    },
    "tags": []
   },
   "outputs": [
    {
     "data": {
      "text/plain": [
       "153"
      ]
     },
     "execution_count": 16,
     "metadata": {},
     "output_type": "execute_result"
    }
   ],
   "source": [
    "df['boxes'].isnull().sum() # some of boxes info is not given -> must handles the issues for the object detection"
   ]
  },
  {
   "cell_type": "markdown",
   "id": "cordless-alaska",
   "metadata": {
    "papermill": {
     "duration": 0.036178,
     "end_time": "2021-07-12T06:26:36.253260",
     "exception": false,
     "start_time": "2021-07-12T06:26:36.217082",
     "status": "completed"
    },
    "tags": []
   },
   "source": [
    "**Extracting the boxes info**"
   ]
  },
  {
   "cell_type": "code",
   "execution_count": 17,
   "id": "polyphonic-cartridge",
   "metadata": {
    "execution": {
     "iopub.execute_input": "2021-07-12T06:26:36.334953Z",
     "iopub.status.busy": "2021-07-12T06:26:36.334290Z",
     "iopub.status.idle": "2021-07-12T06:26:36.338021Z",
     "shell.execute_reply": "2021-07-12T06:26:36.338578Z",
     "shell.execute_reply.started": "2021-07-12T06:05:45.255610Z"
    },
    "papermill": {
     "duration": 0.051126,
     "end_time": "2021-07-12T06:26:36.338772",
     "exception": false,
     "start_time": "2021-07-12T06:26:36.287646",
     "status": "completed"
    },
    "tags": []
   },
   "outputs": [],
   "source": [
    "# boxes are located around lef and right lugs -> 2 boxes (basically)\n",
    "# Of course, some images have more than 2 boxes or only 1 box, but that's rare cases\n",
    "\n",
    "first_box = pd.DataFrame(columns = ['id', 'x', 'y', 'width', 'height']) \n",
    "second_box = pd.DataFrame(columns = ['id', 'x', 'y', 'width', 'height'])"
   ]
  },
  {
   "cell_type": "code",
   "execution_count": 18,
   "id": "sudden-catalyst",
   "metadata": {
    "execution": {
     "iopub.execute_input": "2021-07-12T06:26:36.475903Z",
     "iopub.status.busy": "2021-07-12T06:26:36.448517Z",
     "iopub.status.idle": "2021-07-12T06:26:57.184169Z",
     "shell.execute_reply": "2021-07-12T06:26:57.183036Z",
     "shell.execute_reply.started": "2021-07-12T06:05:48.457389Z"
    },
    "papermill": {
     "duration": 20.808637,
     "end_time": "2021-07-12T06:26:57.184351",
     "exception": false,
     "start_time": "2021-07-12T06:26:36.375714",
     "status": "completed"
    },
    "tags": []
   },
   "outputs": [],
   "source": [
    "import re # for replacing pattern of regex\n",
    "\n",
    "for id, value in zip(df['id'], df['boxes']):  # value will have boxes infor for as one big string                 \n",
    "    \n",
    "    if type(value) is not float: # nan -> \"\" -> 0 becomes float type\n",
    "        \n",
    "        s = value.split(\",\") #split by , and i is list (array)\n",
    "\n",
    "        row = [id] # this array append to the dataframe as new row\n",
    "        \n",
    "        first = 1 # for deciding storing the data\n",
    "\n",
    "        for itr in s:\n",
    "\n",
    "            m =  re.sub(\"\\W*[a-z]+\\W*:\\s\", \"\", itr) #m only contains numerical \n",
    "            \n",
    "            if m[-1] == \"}\": # some of m have 123.45} due to the given format\n",
    "                m = m.rstrip(m[-1])\n",
    "                \n",
    "            elif m[-1] == \"]\": # some of m have 123.45}] due to the given format\n",
    "                m = m.rstrip(m[-2:])\n",
    "\n",
    "            m = float(m) # convert m as float \n",
    "\n",
    "            row.append(m) # row had [id, x, y, width, height] \n",
    "\n",
    "            if len(row) == 5: # reset the row for the next row: we assume many images have 2 boxes                \n",
    "                \n",
    "                if first == 1: # \n",
    "                    index = len(first_box) # geting index number to add                \n",
    "                    first_box.loc[index] = row # adding the row\n",
    "                    first += 1\n",
    "                    \n",
    "                else: # second or more boxes come here \n",
    "                    index = len(second_box) # geting index number to add         \n",
    "                    second_box.loc[index] = row # adding the row\n",
    "                    \n",
    "                row.clear() # delete row values\n",
    "                row.append(id) # add id as this image has more than 1 box\n",
    "                \n",
    "    else: # no bounding box\n",
    "        row = [id, 0, 0, 0, 0] # store only name\n",
    "        \n",
    "        first_index = len(first_box) # diiferent index sizes as we assume multiple boxes\n",
    "        second_index = len(second_box) # diiferent index sizes as we assume multiple boxes\n",
    "        \n",
    "        first_box.loc[first_index], second_box.loc[second_index] = row, row\n",
    "                   \n",
    "        row.clear() "
   ]
  },
  {
   "cell_type": "code",
   "execution_count": 19,
   "id": "solved-science",
   "metadata": {
    "execution": {
     "iopub.execute_input": "2021-07-12T06:26:57.271002Z",
     "iopub.status.busy": "2021-07-12T06:26:57.270317Z",
     "iopub.status.idle": "2021-07-12T06:26:57.273253Z",
     "shell.execute_reply": "2021-07-12T06:26:57.273747Z",
     "shell.execute_reply.started": "2021-07-12T05:55:47.878809Z"
    },
    "papermill": {
     "duration": 0.054018,
     "end_time": "2021-07-12T06:26:57.273926",
     "exception": false,
     "start_time": "2021-07-12T06:26:57.219908",
     "status": "completed"
    },
    "tags": []
   },
   "outputs": [
    {
     "data": {
      "text/plain": [
       "(                   id          x           y       width      height\n",
       " 0  000a312787f2_image  789.28836   582.43035  1026.65662  1917.30292\n",
       " 1  0012ff7358bc_image  677.42216   197.97662   867.79767   999.78214\n",
       " 2  001bd15d1891_image  623.23328  1050.00000   714.00000  1106.00000\n",
       " 3  002e9b2128d0_image  276.72917   627.42968   910.58859  1655.81519\n",
       " 4  00326161e51e_image  542.96057   364.37257   590.36261   889.78085,\n",
       "                    id           x          y       width      height\n",
       " 0  000a312787f2_image  2245.91208  591.20528  1094.66162  1761.54944\n",
       " 1  0012ff7358bc_image  1792.69064  402.55250   617.02734  1204.35800\n",
       " 2  001bd15d1891_image  2578.56661  998.66667   662.66667  1120.00000\n",
       " 3  002e9b2128d0_image  1864.18229  745.22656   875.06262  1535.09888\n",
       " 4  00326161e51e_image  1743.45854  782.42827   615.78491   771.14337)"
      ]
     },
     "execution_count": 19,
     "metadata": {},
     "output_type": "execute_result"
    }
   ],
   "source": [
    "first_box.head(5), second_box.head(5)"
   ]
  },
  {
   "cell_type": "code",
   "execution_count": 20,
   "id": "level-sleep",
   "metadata": {
    "execution": {
     "iopub.execute_input": "2021-07-12T06:26:57.348671Z",
     "iopub.status.busy": "2021-07-12T06:26:57.348017Z",
     "iopub.status.idle": "2021-07-12T06:26:57.363318Z",
     "shell.execute_reply": "2021-07-12T06:26:57.362241Z",
     "shell.execute_reply.started": "2021-07-12T06:06:16.973654Z"
    },
    "papermill": {
     "duration": 0.054077,
     "end_time": "2021-07-12T06:26:57.363514",
     "exception": false,
     "start_time": "2021-07-12T06:26:57.309437",
     "status": "completed"
    },
    "tags": []
   },
   "outputs": [
    {
     "name": "stdout",
     "output_type": "stream",
     "text": [
      "7\n",
      "1.0 1.0671140939597314\n"
     ]
    }
   ],
   "source": [
    "dups = second_box.pivot_table(index=['id'], aggfunc='size')\n",
    "print(dups.max())\n",
    "print(dups.median(), dups.mean()) # median < mean = right skewed"
   ]
  },
  {
   "cell_type": "code",
   "execution_count": 21,
   "id": "satisfied-sterling",
   "metadata": {
    "execution": {
     "iopub.execute_input": "2021-07-12T06:26:57.444019Z",
     "iopub.status.busy": "2021-07-12T06:26:57.443137Z",
     "iopub.status.idle": "2021-07-12T06:26:57.449147Z",
     "shell.execute_reply": "2021-07-12T06:26:57.448533Z",
     "shell.execute_reply.started": "2021-07-12T06:19:26.404353Z"
    },
    "papermill": {
     "duration": 0.049531,
     "end_time": "2021-07-12T06:26:57.449330",
     "exception": false,
     "start_time": "2021-07-12T06:26:57.399799",
     "status": "completed"
    },
    "tags": []
   },
   "outputs": [
    {
     "data": {
      "text/plain": [
       "153"
      ]
     },
     "execution_count": 21,
     "metadata": {},
     "output_type": "execute_result"
    }
   ],
   "source": [
    "# check the error: if this values == df['boxes'].isnull().sum(), the extraction is okay. (not x and y as they are just postion can be 0)\n",
    "(first_box['height'] == 0).sum()"
   ]
  },
  {
   "cell_type": "code",
   "execution_count": 22,
   "id": "rising-limit",
   "metadata": {
    "execution": {
     "iopub.execute_input": "2021-07-12T06:26:57.532005Z",
     "iopub.status.busy": "2021-07-12T06:26:57.530429Z",
     "iopub.status.idle": "2021-07-12T06:26:57.552164Z",
     "shell.execute_reply": "2021-07-12T06:26:57.551664Z",
     "shell.execute_reply.started": "2021-07-12T06:18:44.300979Z"
    },
    "papermill": {
     "duration": 0.065685,
     "end_time": "2021-07-12T06:26:57.552343",
     "exception": false,
     "start_time": "2021-07-12T06:26:57.486658",
     "status": "completed"
    },
    "tags": []
   },
   "outputs": [
    {
     "data": {
      "text/html": [
       "<div>\n",
       "<style scoped>\n",
       "    .dataframe tbody tr th:only-of-type {\n",
       "        vertical-align: middle;\n",
       "    }\n",
       "\n",
       "    .dataframe tbody tr th {\n",
       "        vertical-align: top;\n",
       "    }\n",
       "\n",
       "    .dataframe thead th {\n",
       "        text-align: right;\n",
       "    }\n",
       "</style>\n",
       "<table border=\"1\" class=\"dataframe\">\n",
       "  <thead>\n",
       "    <tr style=\"text-align: right;\">\n",
       "      <th></th>\n",
       "      <th>x</th>\n",
       "      <th>y</th>\n",
       "      <th>width</th>\n",
       "      <th>height</th>\n",
       "    </tr>\n",
       "  </thead>\n",
       "  <tbody>\n",
       "    <tr>\n",
       "      <th>count</th>\n",
       "      <td>3007.000000</td>\n",
       "      <td>3007.000000</td>\n",
       "      <td>3007.000000</td>\n",
       "      <td>3007.000000</td>\n",
       "    </tr>\n",
       "    <tr>\n",
       "      <th>mean</th>\n",
       "      <td>969.310364</td>\n",
       "      <td>777.661433</td>\n",
       "      <td>717.174914</td>\n",
       "      <td>1097.281153</td>\n",
       "    </tr>\n",
       "    <tr>\n",
       "      <th>std</th>\n",
       "      <td>810.873967</td>\n",
       "      <td>482.621665</td>\n",
       "      <td>319.237580</td>\n",
       "      <td>544.337978</td>\n",
       "    </tr>\n",
       "    <tr>\n",
       "      <th>min</th>\n",
       "      <td>-3.555580</td>\n",
       "      <td>0.000000</td>\n",
       "      <td>0.000000</td>\n",
       "      <td>0.000000</td>\n",
       "    </tr>\n",
       "    <tr>\n",
       "      <th>25%</th>\n",
       "      <td>398.514030</td>\n",
       "      <td>415.010045</td>\n",
       "      <td>518.444610</td>\n",
       "      <td>706.983310</td>\n",
       "    </tr>\n",
       "    <tr>\n",
       "      <th>50%</th>\n",
       "      <td>651.035080</td>\n",
       "      <td>727.680000</td>\n",
       "      <td>714.265560</td>\n",
       "      <td>1087.052140</td>\n",
       "    </tr>\n",
       "    <tr>\n",
       "      <th>75%</th>\n",
       "      <td>1591.793935</td>\n",
       "      <td>1082.927365</td>\n",
       "      <td>918.456510</td>\n",
       "      <td>1470.599170</td>\n",
       "    </tr>\n",
       "    <tr>\n",
       "      <th>max</th>\n",
       "      <td>3701.636970</td>\n",
       "      <td>2842.484690</td>\n",
       "      <td>1768.733950</td>\n",
       "      <td>2865.412870</td>\n",
       "    </tr>\n",
       "  </tbody>\n",
       "</table>\n",
       "</div>"
      ],
      "text/plain": [
       "                 x            y        width       height\n",
       "count  3007.000000  3007.000000  3007.000000  3007.000000\n",
       "mean    969.310364   777.661433   717.174914  1097.281153\n",
       "std     810.873967   482.621665   319.237580   544.337978\n",
       "min      -3.555580     0.000000     0.000000     0.000000\n",
       "25%     398.514030   415.010045   518.444610   706.983310\n",
       "50%     651.035080   727.680000   714.265560  1087.052140\n",
       "75%    1591.793935  1082.927365   918.456510  1470.599170\n",
       "max    3701.636970  2842.484690  1768.733950  2865.412870"
      ]
     },
     "execution_count": 22,
     "metadata": {},
     "output_type": "execute_result"
    }
   ],
   "source": [
    "first_box.describe() "
   ]
  },
  {
   "cell_type": "code",
   "execution_count": 23,
   "id": "subject-snake",
   "metadata": {
    "execution": {
     "iopub.execute_input": "2021-07-12T06:26:57.637690Z",
     "iopub.status.busy": "2021-07-12T06:26:57.636715Z",
     "iopub.status.idle": "2021-07-12T06:26:57.656499Z",
     "shell.execute_reply": "2021-07-12T06:26:57.657018Z",
     "shell.execute_reply.started": "2021-07-12T06:18:10.879513Z"
    },
    "papermill": {
     "duration": 0.066797,
     "end_time": "2021-07-12T06:26:57.657186",
     "exception": false,
     "start_time": "2021-07-12T06:26:57.590389",
     "status": "completed"
    },
    "tags": []
   },
   "outputs": [
    {
     "data": {
      "text/html": [
       "<div>\n",
       "<style scoped>\n",
       "    .dataframe tbody tr th:only-of-type {\n",
       "        vertical-align: middle;\n",
       "    }\n",
       "\n",
       "    .dataframe tbody tr th {\n",
       "        vertical-align: top;\n",
       "    }\n",
       "\n",
       "    .dataframe thead th {\n",
       "        text-align: right;\n",
       "    }\n",
       "</style>\n",
       "<table border=\"1\" class=\"dataframe\">\n",
       "  <thead>\n",
       "    <tr style=\"text-align: right;\">\n",
       "      <th></th>\n",
       "      <th>x</th>\n",
       "      <th>y</th>\n",
       "      <th>width</th>\n",
       "      <th>height</th>\n",
       "    </tr>\n",
       "  </thead>\n",
       "  <tbody>\n",
       "    <tr>\n",
       "      <th>count</th>\n",
       "      <td>3180.000000</td>\n",
       "      <td>3180.000000</td>\n",
       "      <td>3180.000000</td>\n",
       "      <td>3180.000000</td>\n",
       "    </tr>\n",
       "    <tr>\n",
       "      <th>mean</th>\n",
       "      <td>1482.159739</td>\n",
       "      <td>862.698810</td>\n",
       "      <td>684.654029</td>\n",
       "      <td>1018.751443</td>\n",
       "    </tr>\n",
       "    <tr>\n",
       "      <th>std</th>\n",
       "      <td>899.416752</td>\n",
       "      <td>516.124094</td>\n",
       "      <td>319.747129</td>\n",
       "      <td>546.697112</td>\n",
       "    </tr>\n",
       "    <tr>\n",
       "      <th>min</th>\n",
       "      <td>0.000000</td>\n",
       "      <td>0.000000</td>\n",
       "      <td>0.000000</td>\n",
       "      <td>0.000000</td>\n",
       "    </tr>\n",
       "    <tr>\n",
       "      <th>25%</th>\n",
       "      <td>627.029327</td>\n",
       "      <td>488.096250</td>\n",
       "      <td>476.216705</td>\n",
       "      <td>606.813740</td>\n",
       "    </tr>\n",
       "    <tr>\n",
       "      <th>50%</th>\n",
       "      <td>1636.906110</td>\n",
       "      <td>800.996975</td>\n",
       "      <td>675.853365</td>\n",
       "      <td>987.223910</td>\n",
       "    </tr>\n",
       "    <tr>\n",
       "      <th>75%</th>\n",
       "      <td>2111.494363</td>\n",
       "      <td>1205.717710</td>\n",
       "      <td>888.705575</td>\n",
       "      <td>1394.227353</td>\n",
       "    </tr>\n",
       "    <tr>\n",
       "      <th>max</th>\n",
       "      <td>3897.917810</td>\n",
       "      <td>2780.892390</td>\n",
       "      <td>1919.800000</td>\n",
       "      <td>3140.152040</td>\n",
       "    </tr>\n",
       "  </tbody>\n",
       "</table>\n",
       "</div>"
      ],
      "text/plain": [
       "                 x            y        width       height\n",
       "count  3180.000000  3180.000000  3180.000000  3180.000000\n",
       "mean   1482.159739   862.698810   684.654029  1018.751443\n",
       "std     899.416752   516.124094   319.747129   546.697112\n",
       "min       0.000000     0.000000     0.000000     0.000000\n",
       "25%     627.029327   488.096250   476.216705   606.813740\n",
       "50%    1636.906110   800.996975   675.853365   987.223910\n",
       "75%    2111.494363  1205.717710   888.705575  1394.227353\n",
       "max    3897.917810  2780.892390  1919.800000  3140.152040"
      ]
     },
     "execution_count": 23,
     "metadata": {},
     "output_type": "execute_result"
    }
   ],
   "source": [
    "second_box.describe() "
   ]
  },
  {
   "cell_type": "markdown",
   "id": "special-short",
   "metadata": {
    "papermill": {
     "duration": 0.037893,
     "end_time": "2021-07-12T06:26:57.731842",
     "exception": false,
     "start_time": "2021-07-12T06:26:57.693949",
     "status": "completed"
    },
    "tags": []
   },
   "source": [
    "**Replacing no boxing with mean values** <br>\n",
    "**Not using x and y as they can be 0.**"
   ]
  },
  {
   "cell_type": "code",
   "execution_count": 24,
   "id": "latin-assignment",
   "metadata": {
    "execution": {
     "iopub.execute_input": "2021-07-12T06:26:57.811319Z",
     "iopub.status.busy": "2021-07-12T06:26:57.810655Z",
     "iopub.status.idle": "2021-07-12T06:26:57.822341Z",
     "shell.execute_reply": "2021-07-12T06:26:57.822855Z",
     "shell.execute_reply.started": "2021-07-12T06:17:40.227877Z"
    },
    "papermill": {
     "duration": 0.052894,
     "end_time": "2021-07-12T06:26:57.823029",
     "exception": false,
     "start_time": "2021-07-12T06:26:57.770135",
     "status": "completed"
    },
    "tags": []
   },
   "outputs": [],
   "source": [
    "# filling own mean will change the true mean values, so, need to store the value before fill in itself \n",
    "\n",
    "x_mean = first_box['x'].mean()\n",
    "y_mean = first_box['y'].mean()\n",
    "width_mean = first_box['width'].mean()\n",
    "height_mean = first_box['height'].mean() \n",
    "\n",
    "first_box['x'] = first_box['x'].mask(first_box['height'] == 0, x_mean)\n",
    "first_box['y'] = first_box['y'].mask(first_box['height'] == 0, y_mean)\n",
    "first_box['width'] = first_box['width'].mask(first_box['height'] == 0, width_mean)\n",
    "first_box['height'] = first_box['height'].mask(first_box['height'] == 0, height_mean)"
   ]
  },
  {
   "cell_type": "code",
   "execution_count": 25,
   "id": "juvenile-essex",
   "metadata": {
    "execution": {
     "iopub.execute_input": "2021-07-12T06:26:57.904574Z",
     "iopub.status.busy": "2021-07-12T06:26:57.903936Z",
     "iopub.status.idle": "2021-07-12T06:26:57.915348Z",
     "shell.execute_reply": "2021-07-12T06:26:57.915854Z",
     "shell.execute_reply.started": "2021-07-12T06:07:43.758172Z"
    },
    "papermill": {
     "duration": 0.056496,
     "end_time": "2021-07-12T06:26:57.916022",
     "exception": false,
     "start_time": "2021-07-12T06:26:57.859526",
     "status": "completed"
    },
    "tags": []
   },
   "outputs": [],
   "source": [
    "# filling own mean will change the true mean values, so, need to store the value before fill in itself \n",
    "\n",
    "x_mean = second_box['x'].mean()\n",
    "y_mean = second_box['y'].mean()\n",
    "width_mean = second_box['width'].mean()\n",
    "height_mean = second_box['height'].mean() \n",
    "\n",
    "second_box['x'] = second_box['x'].mask(second_box['height'] == 0, x_mean)\n",
    "second_box['y'] = second_box['y'].mask(second_box['height'] == 0, y_mean)\n",
    "second_box['width'] = second_box['width'].mask(second_box['height'] == 0, width_mean)\n",
    "second_box['height'] = second_box['height'].mask(second_box['height'] == 0, height_mean)"
   ]
  },
  {
   "cell_type": "code",
   "execution_count": 26,
   "id": "positive-cleanup",
   "metadata": {
    "execution": {
     "iopub.execute_input": "2021-07-12T06:26:57.992586Z",
     "iopub.status.busy": "2021-07-12T06:26:57.991940Z",
     "iopub.status.idle": "2021-07-12T06:26:57.998147Z",
     "shell.execute_reply": "2021-07-12T06:26:57.998706Z",
     "shell.execute_reply.started": "2021-07-12T06:17:43.340314Z"
    },
    "papermill": {
     "duration": 0.046197,
     "end_time": "2021-07-12T06:26:57.998872",
     "exception": false,
     "start_time": "2021-07-12T06:26:57.952675",
     "status": "completed"
    },
    "tags": []
   },
   "outputs": [
    {
     "name": "stdout",
     "output_type": "stream",
     "text": [
      "0 0\n"
     ]
    }
   ],
   "source": [
    "print((first_box['height'] == 0).sum(), (second_box['height'] == 0).sum()) # assume both are 0 as we filled in with mean of the values"
   ]
  },
  {
   "cell_type": "markdown",
   "id": "conscious-regression",
   "metadata": {
    "papermill": {
     "duration": 0.037339,
     "end_time": "2021-07-12T06:26:58.074204",
     "exception": false,
     "start_time": "2021-07-12T06:26:58.036865",
     "status": "completed"
    },
    "tags": []
   },
   "source": [
    "**Saving file**"
   ]
  },
  {
   "cell_type": "code",
   "execution_count": 27,
   "id": "coated-application",
   "metadata": {
    "execution": {
     "iopub.execute_input": "2021-07-12T06:26:58.152702Z",
     "iopub.status.busy": "2021-07-12T06:26:58.151982Z",
     "iopub.status.idle": "2021-07-12T06:26:58.208599Z",
     "shell.execute_reply": "2021-07-12T06:26:58.208024Z",
     "shell.execute_reply.started": "2021-07-12T06:22:13.514567Z"
    },
    "papermill": {
     "duration": 0.096801,
     "end_time": "2021-07-12T06:26:58.208755",
     "exception": false,
     "start_time": "2021-07-12T06:26:58.111954",
     "status": "completed"
    },
    "tags": []
   },
   "outputs": [],
   "source": [
    "first_box.to_csv('/kaggle/working/Typical_Appearance1.csv',index=False)\n",
    "second_box.to_csv('/kaggle/working/Typical_Appearance2.csv',index=False)"
   ]
  },
  {
   "cell_type": "markdown",
   "id": "artificial-cuisine",
   "metadata": {
    "papermill": {
     "duration": 0.036524,
     "end_time": "2021-07-12T06:26:58.283860",
     "exception": false,
     "start_time": "2021-07-12T06:26:58.247336",
     "status": "completed"
    },
    "tags": []
   },
   "source": [
    "# Convert Image files to jpg"
   ]
  },
  {
   "cell_type": "code",
   "execution_count": 28,
   "id": "solid-wedding",
   "metadata": {
    "execution": {
     "iopub.execute_input": "2021-07-12T06:26:58.364679Z",
     "iopub.status.busy": "2021-07-12T06:26:58.364006Z",
     "iopub.status.idle": "2021-07-12T06:26:59.762884Z",
     "shell.execute_reply": "2021-07-12T06:26:59.762326Z",
     "shell.execute_reply.started": "2021-07-11T07:35:32.476205Z"
    },
    "papermill": {
     "duration": 1.442492,
     "end_time": "2021-07-12T06:26:59.763027",
     "exception": false,
     "start_time": "2021-07-12T06:26:58.320535",
     "status": "completed"
    },
    "tags": []
   },
   "outputs": [
    {
     "data": {
      "text/plain": [
       "<matplotlib.image.AxesImage at 0x7f2c37094b10>"
      ]
     },
     "execution_count": 28,
     "metadata": {},
     "output_type": "execute_result"
    },
    {
     "data": {
      "image/png": "[encoded data removed]",
      "text/plain": [
       "<Figure size 432x288 with 1 Axes>"
      ]
     },
     "metadata": {
      "needs_background": "light"
     },
     "output_type": "display_data"
    }
   ],
   "source": [
    "#!pip install pydicom\n",
    "from pydicom import dcmread\n",
    "from pydicom.data import get_testdata_file\n",
    "import scipy.misc\n",
    "from PIL import Image\n",
    "import matplotlib.pyplot as plt\n",
    "\n",
    "iu = '65761e66de9f.dcm' # string type\n",
    "Input_Image = pydicom.read_file('../input/siim-covid19-detection/train/00086460a852/9e8302230c91/65761e66de9f.dcm') # class type\n",
    "img = Input_Image.pixel_array\n",
    "res = (np.maximum(img, 0) / img.max())*255 # Normalize\n",
    "# res = res.astype(np.uint8) # color for image \n",
    "Output_Image = Image.fromarray(res)\n",
    "plt.imshow(Output_Image)\n",
    "# Output_Image.save('/kaggle/working//slim/' + iu.replace('.dcm','.png')) # save jpg and png\n"
   ]
  },
  {
   "cell_type": "code",
   "execution_count": null,
   "id": "successful-reliance",
   "metadata": {
    "papermill": {
     "duration": 0.039445,
     "end_time": "2021-07-12T06:26:59.843014",
     "exception": false,
     "start_time": "2021-07-12T06:26:59.803569",
     "status": "completed"
    },
    "tags": []
   },
   "outputs": [],
   "source": []
  }
 ],
 "metadata": {
  "kernelspec": {
   "display_name": "Python 3",
   "language": "python",
   "name": "python3"
  },
  "language_info": {
   "codemirror_mode": {
    "name": "ipython",
    "version": 3
   },
   "file_extension": ".py",
   "mimetype": "text/x-python",
   "name": "python",
   "nbconvert_exporter": "python",
   "pygments_lexer": "ipython3",
   "version": "3.7.10"
  },
  "papermill": {
   "default_parameters": {},
   "duration": 103.826212,
   "end_time": "2021-07-12T06:27:00.693161",
   "environment_variables": {},
   "exception": null,
   "input_path": "__notebook__.ipynb",
   "output_path": "__notebook__.ipynb",
   "parameters": {},
   "start_time": "2021-07-12T06:25:16.866949",
   "version": "2.3.3"
  }
 },
 "nbformat": 4,
 "nbformat_minor": 5
}
